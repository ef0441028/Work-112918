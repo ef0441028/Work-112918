{
 "cells": [
  {
   "cell_type": "code",
   "execution_count": 45,
   "metadata": {},
   "outputs": [],
   "source": [
    "from PIL import Image\n",
    "from astropy.table import Table\n",
    "from astropy.io import ascii\n",
    "import csv\n",
    "import pandas\n",
    "from astropy.table import Column\n",
    "from astropy.io import fits\n",
    "import numpy as np\n",
    "import matplotlib.pyplot as plt\n",
    "from astropy.visualization import astropy_mpl_style\n",
    "plt.style.use(astropy_mpl_style)\n",
    "from astropy.utils.data import get_pkg_data_filename\n",
    "import os\n",
    "import shutil\n",
    "from astropy.table import QTable\n",
    "import matplotlib.colors\n",
    "from matplotlib.mlab import bivariate_normal"
   ]
  },
  {
   "cell_type": "code",
   "execution_count": 2,
   "metadata": {},
   "outputs": [
    {
     "name": "stdout",
     "output_type": "stream",
     "text": [
      "9721-57942-01\n"
     ]
    }
   ],
   "source": [
    "image_file = fits.open('asFlux-a-23800020.fits')\n",
    "hdr = image_file[0].header\n",
    "x = hdr['NAME']\n",
    "image_file.close()\n",
    "print(x)"
   ]
  },
  {
   "cell_type": "code",
   "execution_count": 49,
   "metadata": {},
   "outputs": [
    {
     "data": {
      "image/png": "[encoded data removed]",
      "text/plain": [
       "<matplotlib.figure.Figure at 0x7f8818b35320>"
      ]
     },
     "metadata": {},
     "output_type": "display_data"
    }
   ],
   "source": [
    "data = fits.getdata('asFlux-a-23800020.fits', 0)\n",
    "fig=plt.figure()\n",
    "plt.imshow(data, cmap='gray');\n",
    "fig.savefig('flatfield.jpg')\n",
    "#plt.colorbar()"
   ]
  },
  {
   "cell_type": "code",
   "execution_count": 33,
   "metadata": {},
   "outputs": [
    {
     "data": {
      "text/plain": [
       "False"
      ]
     },
     "execution_count": 33,
     "metadata": {},
     "output_type": "execute_result"
    }
   ],
   "source": [
    "data = fits.getdata('asFlux-a-23800020.fits', 0)\n",
    "t = Table(data)\n",
    "df = t.to_pandas()\n",
    "df.index = df.index + 1\n",
    "w = df.std(1)\n",
    "e = w*100\n",
    "np.any(e >= 30)"
   ]
  },
  {
   "cell_type": "code",
   "execution_count": 84,
   "metadata": {},
   "outputs": [],
   "source": [
    "def main():\n",
    "    s = 'C:/Users/farre/Documents/dome flats south'\n",
    "    file_list = os.listdir(s)\n",
    "    for f in file_list:\n",
    "        if f.endswith('.fits'):\n",
    "            b = f\n",
    "        \n",
    "            image_file = fits.open(b)\n",
    "            hdr = image_file[0].header\n",
    "            x = hdr['NAME']\n",
    "            image_file.close()    \n",
    "            \n",
    "            data = fits.getdata(b, 0)\n",
    "            t = Table(data)\n",
    "            df = t.to_pandas()\n",
    "            df.index = df.index + 1\n",
    "            df['Sum'] = df.sum(1)/2048\n",
    "            \n",
    "\n",
    "    df['Sum'].to_csv(x + \".csv\", sep=' ', header = None)\n",
    "\n",
    "\n",
    "if __name__ == \"__main__\":\n",
    "    main()"
   ]
  },
  {
   "cell_type": "code",
   "execution_count": 38,
   "metadata": {},
   "outputs": [],
   "source": [
    "s = '//home/emily/Documents/dome flats south/21'\n",
    "file_list = os.listdir(s)\n",
    "for f in file_list:\n",
    "    if f.endswith('.fits'):\n",
    "        b = f\n",
    "        \n",
    "        image_file = fits.open(b)\n",
    "        hdr = image_file[0].header\n",
    "        x = hdr['NAME']\n",
    "        image_file.close()    \n",
    "            \n",
    "        data = fits.getdata(b, 0)\n",
    "        t = Table(data)\n",
    "        df = t.to_pandas()\n",
    "        df.index = df.index + 1\n",
    "        w = df.std(1)\n",
    "        e = w*100\n",
    "        \n",
    "        \n",
    "if np.any(e >= 30):\n",
    "    print(x,e)\n",
    "        \n"
   ]
  },
  {
   "cell_type": "code",
   "execution_count": 45,
   "metadata": {},
   "outputs": [
    {
     "ename": "FileNotFoundError",
     "evalue": "[Errno 2] No such file or directory: 'C:/Users/farre/Documents/dome flats south/21'",
     "output_type": "error",
     "traceback": [
      "\u001b[0;31m---------------------------------------------------------------------------\u001b[0m",
      "\u001b[0;31mFileNotFoundError\u001b[0m                         Traceback (most recent call last)",
      "\u001b[0;32m<ipython-input-45-60f6fa0249e4>\u001b[0m in \u001b[0;36m<module>\u001b[0;34m()\u001b[0m\n\u001b[1;32m     24\u001b[0m \u001b[0;34m\u001b[0m\u001b[0m\n\u001b[1;32m     25\u001b[0m \u001b[0;32mif\u001b[0m \u001b[0m__name__\u001b[0m \u001b[0;34m==\u001b[0m \u001b[0;34m\"__main__\"\u001b[0m\u001b[0;34m:\u001b[0m\u001b[0;34m\u001b[0m\u001b[0m\n\u001b[0;32m---> 26\u001b[0;31m     \u001b[0mmain\u001b[0m\u001b[0;34m(\u001b[0m\u001b[0;34m)\u001b[0m\u001b[0;34m\u001b[0m\u001b[0m\n\u001b[0m",
      "\u001b[0;32m<ipython-input-45-60f6fa0249e4>\u001b[0m in \u001b[0;36mmain\u001b[0;34m()\u001b[0m\n\u001b[1;32m      1\u001b[0m \u001b[0;32mdef\u001b[0m \u001b[0mmain\u001b[0m\u001b[0;34m(\u001b[0m\u001b[0;34m)\u001b[0m\u001b[0;34m:\u001b[0m\u001b[0;34m\u001b[0m\u001b[0m\n\u001b[1;32m      2\u001b[0m     \u001b[0ms\u001b[0m \u001b[0;34m=\u001b[0m \u001b[0;34m'C:/Users/farre/Documents/dome flats south/21'\u001b[0m\u001b[0;34m\u001b[0m\u001b[0m\n\u001b[0;32m----> 3\u001b[0;31m     \u001b[0mfile_list\u001b[0m \u001b[0;34m=\u001b[0m \u001b[0mos\u001b[0m\u001b[0;34m.\u001b[0m\u001b[0mlistdir\u001b[0m\u001b[0;34m(\u001b[0m\u001b[0ms\u001b[0m\u001b[0;34m)\u001b[0m\u001b[0;34m\u001b[0m\u001b[0m\n\u001b[0m\u001b[1;32m      4\u001b[0m     \u001b[0;32mfor\u001b[0m \u001b[0mf\u001b[0m \u001b[0;32min\u001b[0m \u001b[0mfile_list\u001b[0m\u001b[0;34m:\u001b[0m\u001b[0;34m\u001b[0m\u001b[0m\n\u001b[1;32m      5\u001b[0m         \u001b[0;32mif\u001b[0m \u001b[0mf\u001b[0m\u001b[0;34m.\u001b[0m\u001b[0mendswith\u001b[0m\u001b[0;34m(\u001b[0m\u001b[0;34m'.csv'\u001b[0m\u001b[0;34m)\u001b[0m\u001b[0;34m:\u001b[0m\u001b[0;34m\u001b[0m\u001b[0m\n",
      "\u001b[0;31mFileNotFoundError\u001b[0m: [Errno 2] No such file or directory: 'C:/Users/farre/Documents/dome flats south/21'"
     ]
    }
   ],
   "source": [
    "def main():\n",
    "    s = 'C:/Users/farre/Documents/dome flats south/21'\n",
    "    file_list = os.listdir(s)\n",
    "    for f in file_list:\n",
    "        if f.endswith('.csv'):\n",
    "            b = f\n",
    "            file_path = b\n",
    "            file_name = file_path.split(\"/\")\n",
    "            arr = []\n",
    "            with open(file_path) as f:\n",
    "            #print('in with loop') \n",
    "                for line in f: \n",
    "                    if '.' in line:\n",
    "                    #print(line.split())\n",
    "                        a = line.split()\n",
    "                        a.insert(0,file_name)\n",
    "                        arr.append(a)\n",
    "\n",
    "\t#for p in arr: print(p)\n",
    "\t#print(arr)\n",
    "\n",
    "            wtr = csv.writer(open (\"omg.csv\", 'a'), delimiter=',', lineterminator='\\n')\n",
    "            for x in arr : wtr.writerow (x)\n",
    "\n",
    "if __name__ == \"__main__\":\n",
    "    main()"
   ]
  },
  {
   "cell_type": "code",
   "execution_count": 55,
   "metadata": {},
   "outputs": [
    {
     "ename": "KeyboardInterrupt",
     "evalue": "",
     "output_type": "error",
     "traceback": [
      "\u001b[0;31m---------------------------------------------------------------------------\u001b[0m",
      "\u001b[0;31mKeyboardInterrupt\u001b[0m                         Traceback (most recent call last)",
      "\u001b[0;32m<ipython-input-55-b8726c725aa7>\u001b[0m in \u001b[0;36m<module>\u001b[0;34m()\u001b[0m\n\u001b[1;32m     21\u001b[0m \u001b[0;34m\u001b[0m\u001b[0m\n\u001b[1;32m     22\u001b[0m \u001b[0;32mif\u001b[0m \u001b[0m__name__\u001b[0m \u001b[0;34m==\u001b[0m \u001b[0;34m\"__main__\"\u001b[0m\u001b[0;34m:\u001b[0m\u001b[0;34m\u001b[0m\u001b[0m\n\u001b[0;32m---> 23\u001b[0;31m     \u001b[0mmain\u001b[0m\u001b[0;34m(\u001b[0m\u001b[0;34m)\u001b[0m\u001b[0;34m\u001b[0m\u001b[0m\n\u001b[0m",
      "\u001b[0;32m<ipython-input-55-b8726c725aa7>\u001b[0m in \u001b[0;36mmain\u001b[0;34m()\u001b[0m\n\u001b[1;32m     11\u001b[0m             \u001b[0;32mwith\u001b[0m \u001b[0mopen\u001b[0m\u001b[0;34m(\u001b[0m\u001b[0mmapdatatest\u001b[0m\u001b[0;34m,\u001b[0m \u001b[0;34m'r'\u001b[0m\u001b[0;34m)\u001b[0m \u001b[0;32mas\u001b[0m \u001b[0mdata\u001b[0m\u001b[0;34m:\u001b[0m\u001b[0;34m\u001b[0m\u001b[0m\n\u001b[1;32m     12\u001b[0m                 \u001b[0mdatafile\u001b[0m \u001b[0;34m=\u001b[0m \u001b[0mcsv\u001b[0m\u001b[0;34m.\u001b[0m\u001b[0mreader\u001b[0m\u001b[0;34m(\u001b[0m\u001b[0mdata\u001b[0m\u001b[0;34m)\u001b[0m\u001b[0;34m\u001b[0m\u001b[0m\n\u001b[0;32m---> 13\u001b[0;31m                 \u001b[0;32mfor\u001b[0m \u001b[0mrows\u001b[0m \u001b[0;32min\u001b[0m \u001b[0mdatafile\u001b[0m\u001b[0;34m:\u001b[0m\u001b[0;34m\u001b[0m\u001b[0m\n\u001b[0m\u001b[1;32m     14\u001b[0m                     \u001b[0;32mif\u001b[0m \u001b[0mrows\u001b[0m\u001b[0;34m[\u001b[0m\u001b[0;36m0\u001b[0m\u001b[0;34m]\u001b[0m \u001b[0;32min\u001b[0m \u001b[0mrow\u001b[0m \u001b[0;32mand\u001b[0m \u001b[0mrows\u001b[0m\u001b[0;34m[\u001b[0m\u001b[0;36m5\u001b[0m\u001b[0;34m]\u001b[0m \u001b[0;32min\u001b[0m \u001b[0mrow\u001b[0m\u001b[0;34m:\u001b[0m\u001b[0;34m\u001b[0m\u001b[0m\n\u001b[1;32m     15\u001b[0m                         \u001b[0;32mfor\u001b[0m \u001b[0mitem\u001b[0m \u001b[0;32min\u001b[0m \u001b[0mrows\u001b[0m\u001b[0;34m:\u001b[0m\u001b[0;34m\u001b[0m\u001b[0m\n",
      "\u001b[0;31mKeyboardInterrupt\u001b[0m: "
     ]
    }
   ],
   "source": [
    "def main(): \n",
    "\n",
    "    throughput = '//home/emily/Documents/dome flats south/21/throughput.csv'\n",
    "    mapdatatest = '//home/emily/Documents/dome flats south/21/extracted_data_final.csv'\n",
    "    outputfile = \"output\"\n",
    "\n",
    "    with open(throughput, 'r') as master:\n",
    "        wtr = csv.writer(open (\"throughput_merged_data_21.csv\", 'a'), delimiter=',', lineterminator='\\n')\n",
    "        reader = csv.reader(master)\n",
    "        for row in reader: \n",
    "            with open(mapdatatest, 'r') as data: \n",
    "                datafile = csv.reader(data)\n",
    "                for rows in datafile:\n",
    "                    if rows[0] in row and rows[5] in row:\n",
    "                        for item in rows:\n",
    "                            if item not in row: row.append(item)  \n",
    "                    \n",
    "                        wtr.writerow(row)\n",
    "\t\t\t\t\t\t# rows.extend(row)\n",
    "\t\t\t\t\t\t# print(unique_justseen(rows))\n",
    "\n",
    "if __name__ == \"__main__\":\n",
    "    main()\n"
   ]
  },
  {
   "cell_type": "code",
   "execution_count": null,
   "metadata": {},
   "outputs": [],
   "source": []
  }
 ],
 "metadata": {
  "kernelspec": {
   "display_name": "Python 3",
   "language": "python",
   "name": "python3"
  },
  "language_info": {
   "codemirror_mode": {
    "name": "ipython",
    "version": 3
   },
   "file_extension": ".py",
   "mimetype": "text/x-python",
   "name": "python",
   "nbconvert_exporter": "python",
   "pygments_lexer": "ipython3",
   "version": "3.6.4"
  }
 },
 "nbformat": 4,
 "nbformat_minor": 2
}
