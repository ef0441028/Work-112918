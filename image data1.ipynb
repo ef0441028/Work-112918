{
 "cells": [
  {
   "cell_type": "code",
   "execution_count": 63,
   "metadata": {},
   "outputs": [],
   "source": [
    "from astropy.io import fits\n",
    "import numpy as np\n",
    "import matplotlib.pyplot as plt\n",
    "from astropy.visualization import astropy_mpl_style\n",
    "plt.style.use(astropy_mpl_style)\n",
    "from astropy.utils.data import get_pkg_data_filename\n",
    "import os\n",
    "import shutil\n",
    "from PIL import Image\n",
    "from astropy.table import Table\n",
    "from astropy.io import ascii\n",
    "import csv\n",
    "import pandas\n",
    "from astropy.table import Column"
   ]
  },
  {
   "cell_type": "code",
   "execution_count": 54,
   "metadata": {},
   "outputs": [
    {
     "name": "stdout",
     "output_type": "stream",
     "text": [
      "9721-57942-01\n"
     ]
    }
   ],
   "source": [
    "image_file = fits.open('asFlux-a-23800020.fits')\n",
    "hdr = image_file[0].header\n",
    "x = hdr['NAME']\n",
    "image_file.close()\n",
    "print(x)"
   ]
  },
  {
   "cell_type": "code",
   "execution_count": 35,
   "metadata": {},
   "outputs": [],
   "source": [
    "data = fits.getdata('asFlux-a-23800020.fits', 0)\n",
    "t = Table(data)\n",
    "df = t.to_pandas()\n",
    "df.index = df.index + 1\n",
    "df.to_csv('test2.csv', sep='\\t', header=None)"
   ]
  },
  {
   "cell_type": "code",
   "execution_count": 87,
   "metadata": {},
   "outputs": [],
   "source": [
    "data = fits.getdata('asFlux-a-23800020.fits', 0)\n",
    "t = Table(data)\n",
    "df = t.to_pandas()\n",
    "df.index = df.index + 1\n",
    "df['Sum'] = df.sum(1)/2048"
   ]
  },
  {
   "cell_type": "code",
   "execution_count": 84,
   "metadata": {},
   "outputs": [],
   "source": [
    "def main():\n",
    "    s = 'C:/Users/farre/Documents/dome flats south'\n",
    "    file_list = os.listdir(s)\n",
    "    for f in file_list:\n",
    "        if f.endswith('.fits'):\n",
    "            b = f\n",
    "        \n",
    "            image_file = fits.open(b)\n",
    "            hdr = image_file[0].header\n",
    "            x = hdr['NAME']\n",
    "            image_file.close()    \n",
    "            \n",
    "            data = fits.getdata(b, 0)\n",
    "            t = Table(data)\n",
    "            df = t.to_pandas()\n",
    "            df.index = df.index + 1\n",
    "            df['Sum'] = df.sum(1)/2048\n",
    "            \n",
    "\n",
    "    df['Sum'].to_csv(x + \".csv\", sep=' ', header = None)\n",
    "\n",
    "\n",
    "if __name__ == \"__main__\":\n",
    "    main()"
   ]
  },
  {
   "cell_type": "code",
   "execution_count": 86,
   "metadata": {},
   "outputs": [],
   "source": [
    "s = 'C:/Users/farre/Documents/dome flats south/21'\n",
    "file_list = os.listdir(s)\n",
    "for f in file_list:\n",
    "    if f.endswith('.fits'):\n",
    "        b = f\n",
    "        \n",
    "        image_file = fits.open(b)\n",
    "        hdr = image_file[0].header\n",
    "        x = hdr['NAME']\n",
    "        image_file.close()    \n",
    "            \n",
    "        data = fits.getdata(b, 0)\n",
    "        t = Table(data)\n",
    "        df = t.to_pandas()\n",
    "        df.index = df.index + 1\n",
    "        df['Sum'] = df.sum(1)/2048\n",
    "            \n",
    "\n",
    "    df['Sum'].to_csv(x + \".csv\", sep=' ', header = None)\n"
   ]
  },
  {
   "cell_type": "code",
   "execution_count": null,
   "metadata": {},
   "outputs": [],
   "source": []
  }
 ],
 "metadata": {
  "kernelspec": {
   "display_name": "Python 3",
   "language": "python",
   "name": "python3"
  },
  "language_info": {
   "codemirror_mode": {
    "name": "ipython",
    "version": 3
   },
   "file_extension": ".py",
   "mimetype": "text/x-python",
   "name": "python",
   "nbconvert_exporter": "python",
   "pygments_lexer": "ipython3",
   "version": "3.6.5"
  }
 },
 "nbformat": 4,
 "nbformat_minor": 2
}
