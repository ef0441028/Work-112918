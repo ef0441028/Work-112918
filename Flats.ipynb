{
 "cells": [
  {
   "cell_type": "code",
   "execution_count": 1,
   "metadata": {},
   "outputs": [],
   "source": [
    "from astropy.io import fits\n",
    "import numpy as np\n",
    "import matplotlib.pyplot as plt\n",
    "from astropy.visualization import astropy_mpl_style\n",
    "plt.style.use(astropy_mpl_style)\n",
    "from astropy.utils.data import get_pkg_data_filename\n",
    "import csv"
   ]
  },
  {
   "cell_type": "code",
   "execution_count": 2,
   "metadata": {},
   "outputs": [
    {
     "name": "stdout",
     "output_type": "stream",
     "text": [
      "Filename: test.fits\n",
      "No.    Name      Ver    Type      Cards   Dimensions   Format\n",
      "  0  PRIMARY       1 PrimaryHDU     161   ()      \n",
      "  1                1 ImageHDU        11   (2048, 300)   float32   \n",
      "  2                1 ImageHDU         9   (300,)   float32   \n",
      "  3                1 ImageHDU         9   (2048,)   float32   \n",
      "(300, 2048)\n"
     ]
    }
   ],
   "source": [
    "image_file = get_pkg_data_filename('test.fits')\n",
    "\n",
    "fits.info(image_file)\n",
    "\n",
    "image_data = fits.getdata(image_file, ext=0)\n",
    "\n",
    "print(image_data.shape)"
   ]
  },
  {
   "cell_type": "code",
   "execution_count": 3,
   "metadata": {},
   "outputs": [
    {
     "data": {
      "image/png": "[encoded data removed]",
      "text/plain": [
       "<Figure size 432x288 with 1 Axes>"
      ]
     },
     "metadata": {},
     "output_type": "display_data"
    }
   ],
   "source": [
    "plt.figure()\n",
    "plt.imshow(image_data, cmap='gray');"
   ]
  },
  {
   "cell_type": "code",
   "execution_count": 4,
   "metadata": {},
   "outputs": [],
   "source": [
    "hdul = fits.open(image_file)\n",
    "\n",
    "hdr = hdul[0].header"
   ]
  },
  {
   "cell_type": "code",
   "execution_count": 5,
   "metadata": {},
   "outputs": [
    {
     "data": {
      "text/plain": [
       "('/data/data-ql/data/57914/asRaw-23520066-001.fits',\n",
       " 9795,\n",
       " 24,\n",
       " 'DomeFlat',\n",
       " 'None')"
      ]
     },
     "execution_count": 5,
     "metadata": {},
     "output_type": "execute_result"
    }
   ],
   "source": [
    "mylist = hdr['FILENAME'], hdr['PLATEID'], hdr['CARTID'], hdr['IMAGETYP'], hdr['OBSCMNT']\n",
    "\n",
    "mylist"
   ]
  },
  {
   "cell_type": "code",
   "execution_count": 6,
   "metadata": {},
   "outputs": [
    {
     "name": "stdout",
     "output_type": "stream",
     "text": [
      "asFlux-a-22390115.fits\n",
      "asFlux-a-22390122.fits\n",
      "asFlux-a-22400214.fits\n",
      "asFlux-a-22400217.fits\n",
      "asFlux-a-22400227.fits\n",
      "asFlux-a-22410197.fits\n",
      "asFlux-a-22410208.fits\n",
      "asFlux-a-22660045.fits\n",
      "asFlux-a-22680014.fits\n",
      "asFlux-a-22680034.fits\n",
      "asFlux-a-22680054.fits\n",
      "asFlux-a-22690058.fits\n",
      "asFlux-a-22690066.fits\n",
      "asFlux-a-22690096.fits\n",
      "asFlux-a-22690119.fits\n",
      "asFlux-a-22700041.fits\n",
      "asFlux-a-22700081.fits\n",
      "asFlux-a-22700102.fits\n",
      "asFlux-a-22710008.fits\n",
      "asFlux-a-22710020.fits\n",
      "asFlux-a-22710048.fits\n",
      "asFlux-a-22870008.fits\n",
      "asFlux-a-22870027.fits\n",
      "asFlux-a-22880014.fits\n",
      "asFlux-a-22880025.fits\n",
      "asFlux-a-22880036.fits\n",
      "asFlux-a-22880047.fits\n",
      "asFlux-a-22880060.fits\n",
      "asFlux-a-22880082.fits\n",
      "asFlux-a-22890008.fits\n",
      "asFlux-a-22890019.fits\n",
      "asFlux-a-22890030.fits\n",
      "asFlux-a-22890041.fits\n",
      "asFlux-a-22890052.fits\n",
      "asFlux-a-22890063.fits\n",
      "asFlux-a-22890074.fits\n",
      "asFlux-a-22890094.fits\n",
      "asFlux-a-22900008.fits\n",
      "asFlux-a-22900013.fits\n",
      "asFlux-a-22900023.fits\n",
      "asFlux-a-22900052.fits\n",
      "asFlux-a-22900072.fits\n",
      "asFlux-a-22910014.fits\n",
      "asFlux-a-22910025.fits\n",
      "asFlux-a-22910047.fits\n",
      "asFlux-a-22920008.fits\n",
      "asFlux-a-22920019.fits\n",
      "asFlux-a-22920030.fits\n",
      "asFlux-a-22920041.fits\n",
      "asFlux-a-22920052.fits\n",
      "asFlux-a-22920063.fits\n",
      "asFlux-a-22920082.fits\n",
      "asFlux-a-22930008.fits\n",
      "asFlux-a-22930019.fits\n",
      "asFlux-a-22930030.fits\n",
      "asFlux-a-22930042.fits\n",
      "asFlux-a-22930053.fits\n",
      "asFlux-a-22930073.fits\n",
      "asFlux-a-22940008.fits\n",
      "asFlux-a-22940024.fits\n",
      "asFlux-a-22940044.fits\n",
      "asFlux-a-22950023.fits\n",
      "asFlux-a-22960020.fits\n",
      "asFlux-a-22970012.fits\n",
      "asFlux-a-22970042.fits\n",
      "asFlux-a-23150011.fits\n",
      "asFlux-a-23150026.fits\n",
      "asFlux-a-23150037.fits\n",
      "asFlux-a-23150048.fits\n",
      "asFlux-a-23150059.fits\n",
      "asFlux-a-23150079.fits\n",
      "asFlux-a-23160008.fits\n",
      "asFlux-a-23160021.fits\n",
      "asFlux-a-23160032.fits\n",
      "asFlux-a-23160045.fits\n",
      "asFlux-a-23160056.fits\n",
      "asFlux-a-23160078.fits\n",
      "asFlux-a-23170031.fits\n",
      "asFlux-a-23190008.fits\n",
      "asFlux-a-23190022.fits\n",
      "asFlux-a-23190033.fits\n",
      "asFlux-a-23190053.fits\n",
      "asFlux-a-23200006.fits\n",
      "asFlux-a-23200008.fits\n",
      "asFlux-a-23200019.fits\n",
      "asFlux-a-23200033.fits\n",
      "asFlux-a-23210032.fits\n",
      "asFlux-a-23500019.fits\n",
      "asFlux-a-23510012.fits\n",
      "asFlux-a-23510024.fits\n",
      "asFlux-a-23510035.fits\n",
      "asFlux-a-23510044.fits\n",
      "asFlux-a-23510055.fits\n",
      "asFlux-a-23510075.fits\n",
      "asFlux-a-23520009.fits\n",
      "asFlux-a-23520020.fits\n",
      "asFlux-a-23520031.fits\n",
      "asFlux-a-23520042.fits\n",
      "asFlux-a-23520055.fits\n",
      "test.fits\n",
      "Untitled.ipynb\n"
     ]
    }
   ],
   "source": [
    "import os\n",
    "from glob import iglob\n",
    "\n",
    "rootdir_glob = 'C:/Users/This PC/Documents/dome flats south/**/*' \n",
    "file_list = [f for f in iglob('**/*', recursive=True) if os.path.isfile(f)]\n",
    "for f in file_list:\n",
    "    print(f)"
   ]
  },
  {
   "cell_type": "code",
   "execution_count": null,
   "metadata": {},
   "outputs": [],
   "source": [
    "with open('flats.txt', 'a') as f:\n",
    "    for item in mylist:\n",
    "        f.write(\"%s\\n\" % item)"
   ]
  },
  {
   "cell_type": "code",
   "execution_count": null,
   "metadata": {},
   "outputs": [],
   "source": []
  }
 ],
 "metadata": {
  "kernelspec": {
   "display_name": "Python 3",
   "language": "python",
   "name": "python3"
  },
  "language_info": {
   "codemirror_mode": {
    "name": "ipython",
    "version": 3
   },
   "file_extension": ".py",
   "mimetype": "text/x-python",
   "name": "python",
   "nbconvert_exporter": "python",
   "pygments_lexer": "ipython3",
   "version": "3.6.5"
  }
 },
 "nbformat": 4,
 "nbformat_minor": 2
}
