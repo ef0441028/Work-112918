{
 "cells": [
  {
   "cell_type": "code",
   "execution_count": 202,
   "metadata": {},
   "outputs": [],
   "source": [
    "from astropy.io import fits\n",
    "import numpy as np\n",
    "import matplotlib.pyplot as plt\n",
    "from astropy.visualization import astropy_mpl_style\n",
    "plt.style.use(astropy_mpl_style)\n",
    "from astropy.utils.data import get_pkg_data_filename\n",
    "import csv\n",
    "import os\n",
    "from glob import iglob\n",
    "import pandas as pd\n",
    "import glob\n",
    "import shutil"
   ]
  },
  {
   "cell_type": "code",
   "execution_count": 203,
   "metadata": {},
   "outputs": [],
   "source": [
    "rootdir_glob = 'C:/Users/This PC/Documents/dome flats south/**/*' \n",
    "file_list = [f for f in iglob('**/*', recursive=True) if os.path.isfile(f)]\n",
    "for f in file_list:\n",
    "    if f.startswith('asFlux'):\n",
    "        f=a"
   ]
  },
  {
   "cell_type": "code",
   "execution_count": 204,
   "metadata": {},
   "outputs": [],
   "source": [
    "image_file = get_pkg_data_filename(a)\n",
    "image_data = fits.getdata(image_file, ext=0)\n",
    "hdul = fits.open(image_file)\n",
    "hdr = hdul[0].header\n",
    "x = hdr['IMAGETYP']\n",
    "y = hdr['OBSCMNT']"
   ]
  },
  {
   "cell_type": "code",
   "execution_count": 216,
   "metadata": {},
   "outputs": [
    {
     "ename": "FileNotFoundError",
     "evalue": "[WinError 3] The system cannot find the path specified: 'C:/Users/This PC/Documents/dome flats south/**/*'",
     "output_type": "error",
     "traceback": [
      "\u001b[1;31m---------------------------------------------------------------------------\u001b[0m",
      "\u001b[1;31mFileNotFoundError\u001b[0m                         Traceback (most recent call last)",
      "\u001b[1;32m<ipython-input-216-03276378d0a9>\u001b[0m in \u001b[0;36m<module>\u001b[1;34m()\u001b[0m\n\u001b[0;32m      2\u001b[0m \u001b[0mdest1\u001b[0m \u001b[1;33m=\u001b[0m \u001b[1;34m'C:/Users/This PC/Documents/*'\u001b[0m\u001b[1;33m\u001b[0m\u001b[0m\n\u001b[0;32m      3\u001b[0m \u001b[0mdest2\u001b[0m \u001b[1;33m=\u001b[0m \u001b[1;34m'C:/Users/This PC/Documents/notdomes/*'\u001b[0m\u001b[1;33m\u001b[0m\u001b[0m\n\u001b[1;32m----> 4\u001b[1;33m \u001b[0mfiles\u001b[0m \u001b[1;33m=\u001b[0m \u001b[0mos\u001b[0m\u001b[1;33m.\u001b[0m\u001b[0mlistdir\u001b[0m\u001b[1;33m(\u001b[0m\u001b[0msource\u001b[0m\u001b[1;33m)\u001b[0m\u001b[1;33m\u001b[0m\u001b[0m\n\u001b[0m\u001b[0;32m      5\u001b[0m \u001b[1;33m\u001b[0m\u001b[0m\n\u001b[0;32m      6\u001b[0m \u001b[1;32mfor\u001b[0m \u001b[0mf\u001b[0m \u001b[1;32min\u001b[0m \u001b[0mfiles\u001b[0m\u001b[1;33m:\u001b[0m\u001b[1;33m\u001b[0m\u001b[0m\n",
      "\u001b[1;31mFileNotFoundError\u001b[0m: [WinError 3] The system cannot find the path specified: 'C:/Users/This PC/Documents/dome flats south/**/*'"
     ]
    }
   ],
   "source": [
    "source = 'C:/Users/This PC/Documents/dome flats south/**/*'\n",
    "dest1 = 'C:/Users/This PC/Documents/*'\n",
    "dest2 = 'C:/Users/This PC/Documents/notdomes/*'\n",
    "files = os.listdir(source)\n",
    "\n",
    "for f in files:\n",
    "    if x == 'DomeFlat':\n",
    "        shutil.move(a, dest1)"
   ]
  },
  {
   "cell_type": "code",
   "execution_count": 197,
   "metadata": {},
   "outputs": [
    {
     "ename": "SyntaxError",
     "evalue": "invalid syntax (<ipython-input-197-e0719fda23e5>, line 3)",
     "output_type": "error",
     "traceback": [
      "\u001b[1;36m  File \u001b[1;32m\"<ipython-input-197-e0719fda23e5>\"\u001b[1;36m, line \u001b[1;32m3\u001b[0m\n\u001b[1;33m    print(a, file=f):\u001b[0m\n\u001b[1;37m                       ^\u001b[0m\n\u001b[1;31mSyntaxError\u001b[0m\u001b[1;31m:\u001b[0m invalid syntax\n"
     ]
    }
   ],
   "source": [
    "if x != 'DomeFlat':\n",
    "    with open('flats.csv', 'a') as f:\n",
    "        print(a, file=f)   "
   ]
  },
  {
   "cell_type": "code",
   "execution_count": null,
   "metadata": {},
   "outputs": [],
   "source": [
    "source = 'C:/Users/This PC/Documents/dome flats south/*'\n",
    "dest1 = 'C:/Users/This PC/Documents/domes'\n",
    "dest2 = 'C:/Users/This PC/Documents/notdomes'\n",
    "\n",
    "files = os.listdir(source)\n",
    "\n",
    "for f in files:\n",
    "    if (f.startswith(\"Apple\") or f.startswith(\"apple\")):\n",
    "        shutil.move(f, dest1)\n",
    "    elif (f.startswith(\"Intel\") or f.startswith(\"intel\")):\n",
    "        shutil.move(f, dest2)"
   ]
  }
 ],
 "metadata": {
  "kernelspec": {
   "display_name": "Python 3",
   "language": "python",
   "name": "python3"
  },
  "language_info": {
   "codemirror_mode": {
    "name": "ipython",
    "version": 3
   },
   "file_extension": ".py",
   "mimetype": "text/x-python",
   "name": "python",
   "nbconvert_exporter": "python",
   "pygments_lexer": "ipython3",
   "version": "3.6.5"
  }
 },
 "nbformat": 4,
 "nbformat_minor": 2
}
