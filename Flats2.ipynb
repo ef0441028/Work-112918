{
 "cells": [
  {
   "cell_type": "code",
   "execution_count": 1,
   "metadata": {},
   "outputs": [],
   "source": [
    "from astropy.io import fits\n",
    "import numpy as np\n",
    "import matplotlib.pyplot as plt\n",
    "from astropy.visualization import astropy_mpl_style\n",
    "plt.style.use(astropy_mpl_style)\n",
    "from astropy.utils.data import get_pkg_data_filename\n",
    "import os\n",
    "import shutil"
   ]
  },
  {
   "cell_type": "code",
   "execution_count": 13,
   "metadata": {},
   "outputs": [],
   "source": [
    "s = 'C:/Users/farre/Documents/dome flats south'\n",
    "file_list = os.listdir(s)\n",
    "\n",
    "for f in file_list:\n",
    "    if f.endswith('.fits'):\n",
    "        a=f\n",
    "image_file = fits.open(a)\n",
    "hdr = image_file[0].header\n",
    "x = hdr['IMAGETYP']\n",
    "y = hdr['OBSCMNT']\n",
    "image_file.close()\n",
    "\n",
    "dest1 = 'C:/Users/farre/Documents/domes'\n",
    "dest2 = 'C:/Users/farre/Documents/notdomes'\n",
    "files = os.listdir(s)\n",
    "    \n",
    "for f in files:    \n",
    "    if x == 'DomeFlat':\n",
    "        shutil.move(a, dest1)\n",
    "    if x != 'DomeFlat':\n",
    "            shutil.move(a, dest2)\n",
    "    break"
   ]
  },
  {
   "cell_type": "code",
   "execution_count": null,
   "metadata": {},
   "outputs": [],
   "source": []
  },
  {
   "cell_type": "code",
   "execution_count": null,
   "metadata": {},
   "outputs": [],
   "source": []
  }
 ],
 "metadata": {
  "kernelspec": {
   "display_name": "Python 3",
   "language": "python",
   "name": "python3"
  },
  "language_info": {
   "codemirror_mode": {
    "name": "ipython",
    "version": 3
   },
   "file_extension": ".py",
   "mimetype": "text/x-python",
   "name": "python",
   "nbconvert_exporter": "python",
   "pygments_lexer": "ipython3",
   "version": "3.6.5"
  }
 },
 "nbformat": 4,
 "nbformat_minor": 2
}
