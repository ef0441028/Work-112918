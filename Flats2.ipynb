{
 "cells": [
  {
   "cell_type": "code",
   "execution_count": 2,
   "metadata": {},
   "outputs": [],
   "source": [
    "from astropy.io import fits\n",
    "import numpy as np\n",
    "import matplotlib.pyplot as plt\n",
    "from astropy.visualization import astropy_mpl_style\n",
    "plt.style.use(astropy_mpl_style)\n",
    "from astropy.utils.data import get_pkg_data_filename\n",
    "import os\n",
    "import shutil"
   ]
  },
  {
   "cell_type": "code",
   "execution_count": 3,
   "metadata": {},
   "outputs": [],
   "source": [
    "s = 'C:/Users/farre/Documents/dome flats south'\n",
    "file_list = os.listdir(s)\n",
    "for f in file_list:\n",
    "    if f.endswith('.fits'):\n",
    "        a=f\n",
    "        \n",
    "        image_file = fits.open(a)\n",
    "        hdr = image_file[0].header\n",
    "        x = hdr['IMAGETYP']\n",
    "        image_file.close()\n",
    "        dest1 = 'C:/Users/farre/Documents/domes'\n",
    "        dest2 = 'C:/Users/farre/Documents/notdomes'\n",
    "        files = os.listdir(s)\n",
    "\n",
    "\n",
    "        if x == 'DomeFlat':\n",
    "            shutil.move(a, dest1)\n",
    "        if x != 'DomeFlat':\n",
    "            shutil.move(a,dest2)"
   ]
  },
  {
   "cell_type": "code",
   "execution_count": 12,
   "metadata": {},
   "outputs": [],
   "source": [
    "s = 'C:/Users/farre/Documents/dome flats south'\n",
    "file_list = os.listdir(s)\n",
    "for f in file_list:\n",
    "    if f.endswith('.fits'):\n",
    "        b=f\n",
    "\n",
    "        image_file = fits.open(b)\n",
    "        hdr = image_file[0].header\n",
    "        y = hdr['OBSCMNT']\n",
    "        image_file.close()\n",
    "\n",
    "        dest1 = 'C:/Users/farre/Documents/dome flats south/flats'\n",
    "        dest2 = 'C:/Users/farre/Documents/dome flats south/notflats'\n",
    "        files = os.listdir(s)\n",
    "\n",
    "        \n",
    "        if y == 'None':\n",
    "            shutil.move(b, dest1)\n",
    "        if y != 'None':\n",
    "            shutil.move(b,dest2)"
   ]
  },
  {
   "cell_type": "code",
   "execution_count": 52,
   "metadata": {},
   "outputs": [],
   "source": [
    "s = 'C:/Users/farre/Documents/dome flats south'\n",
    "file_list = os.listdir(s)\n",
    "for f in file_list:\n",
    "    if f.endswith('.fits'):\n",
    "        b=f\n",
    "\n",
    "        image_file = fits.open(b)\n",
    "        hdr = image_file[0].header\n",
    "        z = hdr['CARTID']\n",
    "        image_file.close()\n",
    "\n",
    "        dest1 = 'C:/Users/farre/Documents/dome flats south/25'\n",
    "        dest2 = 'C:/Users/farre/Documents/dome flats south/24'\n",
    "        dest3 = 'C:/Users/farre/Documents/dome flats south/23'\n",
    "        dest4 = 'C:/Users/farre/Documents/dome flats south/22'\n",
    "        dest5 = 'C:/Users/farre/Documents/dome flats south/21'\n",
    "        files = os.listdir(s)\n",
    "\n",
    "        \n",
    "        if z == 25:\n",
    "            shutil.move(b,dest1)\n",
    "        if z == 24:\n",
    "            shutil.move(b,dest2)\n",
    "        if z == 23:\n",
    "            shutil.move(b,dest3)\n",
    "        if z == 22:\n",
    "            shutil.move(b,dest4)\n",
    "        if z == 21:\n",
    "            shutil.move(b,dest5)"
   ]
  },
  {
   "cell_type": "code",
   "execution_count": null,
   "metadata": {},
   "outputs": [],
   "source": [
    "import glob, os\n",
    "\n",
    "for filename in glob.iglob(os.path.join('C:/Users/farre/Documents/asFlux', '*.par')):\n",
    "    os.rename(filename, filename[:-4] + '.txt')"
   ]
  },
  {
   "cell_type": "code",
   "execution_count": 19,
   "metadata": {
    "scrolled": false
   },
   "outputs": [],
   "source": [
    "f = open(\"plPlugMapM-9722-57944-01.par\", \"r\")\n"
   ]
  },
  {
   "cell_type": "code",
   "execution_count": 44,
   "metadata": {},
   "outputs": [
    {
     "name": "stdout",
     "output_type": "stream",
     "text": [
      "22 9719\n",
      "22 9737\n",
      "22 9732\n",
      "25 9797\n",
      "25 9825\n",
      "23 9724\n",
      "22 10074\n",
      "22 10308\n",
      "24 9645\n",
      "25 10409\n",
      "25 10055\n",
      "25 10694\n",
      "21 10629\n",
      "25 10576\n",
      "22 10131\n",
      "21 10210\n",
      "24 10576\n",
      "21 9848\n",
      "22 9785\n",
      "23 11201\n",
      "22 9706\n",
      "23 9906\n",
      "24 10060\n",
      "23 10035\n",
      "25 10066\n",
      "23 9740\n",
      "22 9693\n",
      "22 10342\n",
      "24 9697\n",
      "23 9809\n",
      "24 10055\n",
      "21 10825\n",
      "23 9810\n",
      "23 10129\n",
      "21 10133\n",
      "23 9832\n",
      "23 11171\n",
      "23 9833\n",
      "24 9722\n",
      "25 9910\n",
      "24 9810\n",
      "22 9826\n",
      "23 9819\n",
      "25 10577\n",
      "25 11035\n",
      "24 11179\n",
      "25 11179\n",
      "23 9646\n"
     ]
    }
   ],
   "source": [
    "s = 'C:/Users/farre/Documents/dome flats south'\n",
    "file_list = os.listdir(s)\n",
    "for f in file_list:\n",
    "    if f.endswith('.fits'):\n",
    "        a=f\n",
    "        \n",
    "        image_file = fits.open(a)\n",
    "        hdr = image_file[0].header\n",
    "        x = hdr['CARTID']\n",
    "        y = hdr['PLATEID']\n",
    "        image_file.close()\n",
    "        \n",
    "        print(x,y)"
   ]
  },
  {
   "cell_type": "code",
   "execution_count": 51,
   "metadata": {},
   "outputs": [
    {
     "name": "stdout",
     "output_type": "stream",
     "text": [
      "9797\n",
      "9825\n",
      "10409\n",
      "10055\n",
      "10694\n",
      "10576\n",
      "10066\n",
      "9910\n",
      "10577\n",
      "11035\n",
      "11179\n"
     ]
    }
   ],
   "source": [
    "s = 'C:/Users/farre/Documents/dome flats south'\n",
    "file_list = os.listdir(s)\n",
    "for f in file_list:\n",
    "    if f.endswith('.fits'):\n",
    "        a=f\n",
    "        \n",
    "        image_file = fits.open(a)\n",
    "        hdr = image_file[0].header\n",
    "        x = hdr['CARTID  ']\n",
    "        y = hdr['PLATEID']\n",
    "        image_file.close()\n",
    "        \n",
    "        if x == 25:\n",
    "            print(y)"
   ]
  },
  {
   "cell_type": "code",
   "execution_count": null,
   "metadata": {},
   "outputs": [],
   "source": [
    "hdu_number = 0\n",
    "fits.getheader('input_file.fits', hdu_number)\n"
   ]
  }
 ],
 "metadata": {
  "kernelspec": {
   "display_name": "Python 3",
   "language": "python",
   "name": "python3"
  },
  "language_info": {
   "codemirror_mode": {
    "name": "ipython",
    "version": 3
   },
   "file_extension": ".py",
   "mimetype": "text/x-python",
   "name": "python",
   "nbconvert_exporter": "python",
   "pygments_lexer": "ipython3",
   "version": "3.6.5"
  }
 },
 "nbformat": 4,
 "nbformat_minor": 2
}
