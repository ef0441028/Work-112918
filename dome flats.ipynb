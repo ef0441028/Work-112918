{
 "cells": [
  {
   "cell_type": "code",
   "execution_count": 1,
   "metadata": {},
   "outputs": [],
   "source": [
    "from astropy.io import fits\n",
    "import numpy as np\n",
    "import matplotlib.pyplot as plt\n",
    "from astropy.visualization import astropy_mpl_style\n",
    "plt.style.use(astropy_mpl_style)\n",
    "from astropy.utils.data import get_pkg_data_filename\n",
    "import os\n",
    "import shutil"
   ]
  },
  {
   "cell_type": "code",
   "execution_count": 57,
   "metadata": {
    "scrolled": true
   },
   "outputs": [],
   "source": [
    "t = '//home/emily/Documents/dome flats south/'\n",
    "file_list = os.listdir(t)\n",
    "for f in file_list:\n",
    "    if f.endswith('.fits'):\n",
    "        a=f\n",
    "        \n",
    "        image_file = fits.open(a)\n",
    "        hdr = image_file[0].header\n",
    "        x = hdr['IMAGETYP']\n",
    "        image_file.close()\n",
    "        dest1 = '//home/emily/Documents/dome flats south/domes/'\n",
    "        dest2 = '//home/emily/Documents/dome flats south/notdomes/'\n",
    "        files = os.listdir(t)\n",
    "\n",
    "\n",
    "        if x == 'DomeFlat':\n",
    "            shutil.move(a, dest1)\n",
    "        if x != 'DomeFlat':\n",
    "            shutil.move(a,dest2)\n",
    "    \n"
   ]
  },
  {
   "cell_type": "code",
   "execution_count": 60,
   "metadata": {},
   "outputs": [],
   "source": [
    "s = '//home/emily/Documents/dome flats south/'\n",
    "file_list = os.listdir(s)\n",
    "for f in file_list:\n",
    "    if f.endswith('.fits'):\n",
    "        b=f\n",
    "\n",
    "        image_file = fits.open(b)\n",
    "        hdr = image_file[0].header\n",
    "        y = hdr['OBSCMNT']\n",
    "        image_file.close()\n",
    "\n",
    "        dest1 = '//home/emily/Documents/dome flats south/flats/'\n",
    "        dest2 = '//home/emily/Documents/dome flats south/notflats/'\n",
    "        files = os.listdir(s)\n",
    "\n",
    "        \n",
    "        if y == 'None':\n",
    "            shutil.move(b, dest1)\n",
    "        if y != 'None':\n",
    "            shutil.move(b,dest2)\n",
    "            \n"
   ]
  },
  {
   "cell_type": "code",
   "execution_count": 72,
   "metadata": {},
   "outputs": [],
   "source": [
    "s = '//home/emily/Documents/dome flats south/'\n",
    "file_list = os.listdir(s)\n",
    "for f in file_list:\n",
    "    if f.endswith('.fits'):\n",
    "        b=f\n",
    "\n",
    "        image_file = fits.open(b)\n",
    "        hdr = image_file[0].header\n",
    "        z = hdr['CARTID']\n",
    "        image_file.close()\n",
    "\n",
    "        dest1 = '//home/emily/Documents/dome flats south/25/'\n",
    "        dest2 = '//home/emily/Documents/dome flats south/24/'\n",
    "        #dest3 = '//home/emily/Documents/dome flats south/23/'\n",
    "        #dest4 = '//home/emily/Documents/dome flats south/22/'\n",
    "        #dest5 = '//home/emily/Documents/dome flats south/21/'\n",
    "        files = os.listdir(s)\n",
    "\n",
    "        \n",
    "        if z == '25':\n",
    "            shutil.move(b,dest1)\n",
    "        if z == '24':\n",
    "            shutil.move(b,dest2)\n",
    "        #if z == '23':\n",
    "         #   shutil.move(b,dest3)\n",
    "        #if z == '22':\n",
    "         #   shutil.move(b,dest4)\n",
    "        #if z == '21':\n",
    "         #   shutil.move(b,dest5)\n",
    "            \n"
   ]
  },
  {
   "cell_type": "code",
   "execution_count": 66,
   "metadata": {},
   "outputs": [
    {
     "name": "stdout",
     "output_type": "stream",
     "text": [
      "23\n",
      "23\n",
      "22\n",
      "25\n",
      "23\n",
      "24\n",
      "24\n",
      "22\n",
      "25\n",
      "22\n",
      "25\n",
      "25\n"
     ]
    }
   ],
   "source": [
    "s = '//home/emily/Documents/dome flats south/'\n",
    "file_list = os.listdir(s)\n",
    "for f in file_list:\n",
    "    if f.endswith('.fits'):\n",
    "        b=f\n",
    "\n",
    "        image_file = fits.open(b)\n",
    "        hdr = image_file[0].header\n",
    "        z = hdr['CARTID']\n",
    "        #image_file.close()\n",
    "        \n",
    "        print(z)"
   ]
  },
  {
   "cell_type": "code",
   "execution_count": 34,
   "metadata": {},
   "outputs": [
    {
     "name": "stdout",
     "output_type": "stream",
     "text": [
      "asFlux-a-23530096.fits\n",
      "asFlux-a-23520097.fits\n"
     ]
    }
   ],
   "source": [
    "s = '//home/emily/Documents/dome flats south/notdomes'\n",
    "file_list = os.listdir(s)\n",
    "for f in file_list:\n",
    "    if f.startswith('asFlux'):\n",
    "        print(f)"
   ]
  },
  {
   "cell_type": "code",
   "execution_count": null,
   "metadata": {},
   "outputs": [],
   "source": []
  }
 ],
 "metadata": {
  "kernelspec": {
   "display_name": "Python 3",
   "language": "python",
   "name": "python3"
  },
  "language_info": {
   "codemirror_mode": {
    "name": "ipython",
    "version": 3
   },
   "file_extension": ".py",
   "mimetype": "text/x-python",
   "name": "python",
   "nbconvert_exporter": "python",
   "pygments_lexer": "ipython3",
   "version": "3.6.4"
  }
 },
 "nbformat": 4,
 "nbformat_minor": 2
}
