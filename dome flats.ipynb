{
 "cells": [
  {
   "cell_type": "code",
   "execution_count": 57,
   "metadata": {},
   "outputs": [],
   "source": [
    "from astropy.io import fits\n",
    "import numpy as np\n",
    "import matplotlib.pyplot as plt\n",
    "from astropy.visualization import astropy_mpl_style\n",
    "plt.style.use(astropy_mpl_style)\n",
    "from astropy.utils.data import get_pkg_data_filename\n",
    "import os\n",
    "import shutil"
   ]
  },
  {
   "cell_type": "code",
   "execution_count": 58,
   "metadata": {},
   "outputs": [
    {
     "ename": "URLError",
     "evalue": "<urlopen error Failed to download test.fits from the following repositories:\n\n  - http://data.astropy.org/\n  - http://www.astropy.org/astropy-data/>",
     "output_type": "error",
     "traceback": [
      "\u001b[0;31m---------------------------------------------------------------------------\u001b[0m",
      "\u001b[0;31mURLError\u001b[0m                                  Traceback (most recent call last)",
      "\u001b[0;32m<ipython-input-58-e6ab8a76bd6f>\u001b[0m in \u001b[0;36m<module>\u001b[0;34m()\u001b[0m\n\u001b[1;32m      5\u001b[0m         \u001b[0ma\u001b[0m\u001b[0;34m=\u001b[0m\u001b[0mf\u001b[0m\u001b[0;34m\u001b[0m\u001b[0m\n\u001b[1;32m      6\u001b[0m \u001b[0;34m\u001b[0m\u001b[0m\n\u001b[0;32m----> 7\u001b[0;31m \u001b[0mimage_file\u001b[0m \u001b[0;34m=\u001b[0m \u001b[0mget_pkg_data_filename\u001b[0m\u001b[0;34m(\u001b[0m\u001b[0ma\u001b[0m\u001b[0;34m)\u001b[0m\u001b[0;34m\u001b[0m\u001b[0m\n\u001b[0m\u001b[1;32m      8\u001b[0m \u001b[0mimage_data\u001b[0m \u001b[0;34m=\u001b[0m \u001b[0mfits\u001b[0m\u001b[0;34m.\u001b[0m\u001b[0mgetdata\u001b[0m\u001b[0;34m(\u001b[0m\u001b[0mimage_file\u001b[0m\u001b[0;34m,\u001b[0m \u001b[0mext\u001b[0m\u001b[0;34m=\u001b[0m\u001b[0;36m0\u001b[0m\u001b[0;34m)\u001b[0m\u001b[0;34m\u001b[0m\u001b[0m\n\u001b[1;32m      9\u001b[0m \u001b[0mhdul\u001b[0m \u001b[0;34m=\u001b[0m \u001b[0mfits\u001b[0m\u001b[0;34m.\u001b[0m\u001b[0mopen\u001b[0m\u001b[0;34m(\u001b[0m\u001b[0mimage_file\u001b[0m\u001b[0;34m)\u001b[0m\u001b[0;34m\u001b[0m\u001b[0m\n",
      "\u001b[0;32m/opt/anaconda3/lib/python3.6/site-packages/astropy/utils/data.py\u001b[0m in \u001b[0;36mget_pkg_data_filename\u001b[0;34m(data_name, package, show_progress, remote_timeout)\u001b[0m\n\u001b[1;32m    637\u001b[0m             \u001b[0murls\u001b[0m \u001b[0;34m=\u001b[0m \u001b[0;34m'\\n'\u001b[0m\u001b[0;34m.\u001b[0m\u001b[0mjoin\u001b[0m\u001b[0;34m(\u001b[0m\u001b[0;34m'  - {0}'\u001b[0m\u001b[0;34m.\u001b[0m\u001b[0mformat\u001b[0m\u001b[0;34m(\u001b[0m\u001b[0murl\u001b[0m\u001b[0;34m)\u001b[0m \u001b[0;32mfor\u001b[0m \u001b[0murl\u001b[0m \u001b[0;32min\u001b[0m \u001b[0mall_urls\u001b[0m\u001b[0;34m)\u001b[0m\u001b[0;34m\u001b[0m\u001b[0m\n\u001b[1;32m    638\u001b[0m             raise urllib.error.URLError(\"Failed to download {0} from the following \"\n\u001b[0;32m--> 639\u001b[0;31m                                         \"repositories:\\n\\n{1}\".format(data_name, urls))\n\u001b[0m\u001b[1;32m    640\u001b[0m \u001b[0;34m\u001b[0m\u001b[0m\n\u001b[1;32m    641\u001b[0m \u001b[0;34m\u001b[0m\u001b[0m\n",
      "\u001b[0;31mURLError\u001b[0m: <urlopen error Failed to download test.fits from the following repositories:\n\n  - http://data.astropy.org/\n  - http://www.astropy.org/astropy-data/>"
     ]
    }
   ],
   "source": [
    "s = '//home/emily/Documents/dome flats south/'\n",
    "file_list = os.listdir(s)\n",
    "for f in file_list:\n",
    "    if f.endswith('.fits'):\n",
    "        a=f\n",
    "\n",
    "image_file = get_pkg_data_filename(a)\n",
    "image_data = fits.getdata(image_file, ext=0)\n",
    "hdul = fits.open(image_file)\n",
    "hdr = hdul[0].header\n",
    "x = hdr['IMAGETYP']\n",
    "y = hdr['OBSCMNT']\n",
    "\n",
    "source = '//home/emily/Documents/dome flats south/'\n",
    "dest1 = '//home/emily/Documents/dome flats south/domes/'\n",
    "dest2 = '//home/emily/Documents/dome flats south/notdomes/'\n",
    "files = os.listdir(source)\n",
    "\n",
    "for f in files:\n",
    "    if x == 'DomeFlat':\n",
    "        shutil.move(a, dest1)\n",
    "    if x != 'DomeFlat':\n",
    "            shutil.move(a,dest2)\n",
    "\n"
   ]
  },
  {
   "cell_type": "code",
   "execution_count": 59,
   "metadata": {},
   "outputs": [
    {
     "name": "stdout",
     "output_type": "stream",
     "text": [
      "asFlux-a-23530042.fits\n",
      "asFlux-a-23540009.fits\n",
      "asFlux-a-23530064.fits\n",
      "asFlux-a-23530053.fits\n",
      "asFlux-a-23540053.fits\n",
      "asFlux-a-23530075.fits\n",
      "asFlux-a-23530031.fits\n",
      "asFlux-a-23540020.fits\n",
      "asFlux-a-23530020.fits\n",
      "asFlux-a-23530009.fits\n",
      "asFlux-a-23540031.fits\n"
     ]
    }
   ],
   "source": [
    "s = '//home/emily/Documents/dome flats south/domes'\n",
    "file_list = os.listdir(s)\n",
    "for f in file_list:\n",
    "    if f.startswith('asFlux'):\n",
    "        print(f)"
   ]
  },
  {
   "cell_type": "code",
   "execution_count": null,
   "metadata": {},
   "outputs": [],
   "source": []
  }
 ],
 "metadata": {
  "kernelspec": {
   "display_name": "Python 3",
   "language": "python",
   "name": "python3"
  },
  "language_info": {
   "codemirror_mode": {
    "name": "ipython",
    "version": 3
   },
   "file_extension": ".py",
   "mimetype": "text/x-python",
   "name": "python",
   "nbconvert_exporter": "python",
   "pygments_lexer": "ipython3",
   "version": "3.6.4"
  }
 },
 "nbformat": 4,
 "nbformat_minor": 2
}
